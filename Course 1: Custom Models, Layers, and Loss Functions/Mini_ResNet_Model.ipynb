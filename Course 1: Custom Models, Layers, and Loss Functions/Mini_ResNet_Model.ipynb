{
  "cells": [
    {
      "cell_type": "markdown",
      "metadata": {
        "id": "view-in-github",
        "colab_type": "text"
      },
      "source": [
        "<a href=\"https://colab.research.google.com/github/opailo/TensorFlow_Advanced_Techniques_Specialization/blob/main/Course%201%3A%20Custom%20Models%2C%20Layers%2C%20and%20Loss%20Functions/Mini_ResNet_Model.ipynb\" target=\"_parent\"><img src=\"https://colab.research.google.com/assets/colab-badge.svg\" alt=\"Open In Colab\"/></a>"
      ]
    },
    {
      "cell_type": "code",
      "execution_count": null,
      "metadata": {
        "id": "MXzQQpw8f_u3"
      },
      "outputs": [],
      "source": [
        "import tensorflow as tf\n",
        "from tensorflow.keras import Model\n",
        "from tensorflow.keras.layers import  Activation , Conv2D , BatchNormalization , Add , MaxPool2D , GlobalAveragePooling2D , Dense\n",
        "import tensorflow_datasets as tfds\n",
        "from tensorflow.python.keras.utils.vis_utils import plot_model"
      ]
    },
    {
      "cell_type": "markdown",
      "metadata": {
        "id": "2ACbdWKVgkTA"
      },
      "source": [
        "##Create Identity Block Class \n",
        "\n",
        "This code will define the identity block from the mini ResNet model seen in lecture "
      ]
    },
    {
      "cell_type": "code",
      "execution_count": null,
      "metadata": {
        "id": "lAwwFF2-g1u6"
      },
      "outputs": [],
      "source": [
        "class IdentityBlock(Model):\n",
        "\n",
        "  def __init__(self, filters, kernal_size):\n",
        "    super(IdentityBlock, self).__init__(name = '')\n",
        "    self.conv = Conv2D(filters, kernal_size, padding='same')\n",
        "    self.norm = BatchNormalization()\n",
        "    self.act = Activation('relu')\n",
        "    self.add = Add()\n",
        "  \n",
        "\n",
        "  def call(self, input):\n",
        "    x = self.conv(input)\n",
        "    x = self.norm(x)\n",
        "    x = self.act(x)\n",
        "\n",
        "    x = self.conv(x)\n",
        "    x = self.norm(x)\n",
        "\n",
        "    x = self.add([x, input])\n",
        "    x = self.act(x)\n",
        "\n",
        "    return x"
      ]
    },
    {
      "cell_type": "markdown",
      "metadata": {
        "id": "S9Rlw41Jjulx"
      },
      "source": [
        "##Build the `Resnet` Class\n",
        "\n",
        "This class will implement the code above as the `IdentityBlocks` of the `Resnet`"
      ]
    },
    {
      "cell_type": "code",
      "execution_count": null,
      "metadata": {
        "id": "JrwZfN-WkDY-"
      },
      "outputs": [],
      "source": [
        "class Resnet(Model):\n",
        "  def __init__(self, num_classes, activation='softmax'):\n",
        "    \n",
        "    super(Resnet, self).__init__(name='')\n",
        "\n",
        "    #Convolutional Layer with 7x7 Filter\n",
        "    self.conv7 = Conv2D(64, 7, padding='same')\n",
        "    \n",
        "    #Batch Normalization Layer \n",
        "    self.norm = BatchNormalization()\n",
        "\n",
        "    #3x3 Max Pooling Layer \n",
        "    self.pool = MaxPool2D((3,3))\n",
        "\n",
        "    #Identity Block Layer 1\n",
        "    self.idbl1 = IdentityBlock(64, 3)\n",
        "\n",
        "    #Identity Block Layer 2\n",
        "    self.idbl2 = IdentityBlock(64, 3)\n",
        "\n",
        "    #Global pooling layer\n",
        "    self.gpool = GlobalAveragePooling2D()\n",
        "\n",
        "    #Make model flexible and capable of defining classification \n",
        "    #part later with however many classes that's required\n",
        "    self.classifier = Dense(num_classes, \n",
        "                            activation = tf.keras.activations.get(activation))\n",
        "    \n",
        "  \n",
        "  def call(self, input):\n",
        "    x = self.conv7(input)\n",
        "    x = self.norm(x)\n",
        "    x = self.pool(x)\n",
        "    x = self.idbl1(x)\n",
        "    x = self.idbl2(x)\n",
        "    x = self.gpool(x)\n",
        "    x = self.classifier(x)\n",
        "\n",
        "    return x"
      ]
    },
    {
      "cell_type": "code",
      "execution_count": null,
      "metadata": {
        "id": "ZYqKYsqWmQ9i"
      },
      "outputs": [],
      "source": [
        "resnet_model = Resnet(10)\n",
        "resnet_model.compile(optimizer='adam' , loss = tf.keras.losses.sparse_categorical_crossentropy , metrics=['acc'])\n"
      ]
    },
    {
      "cell_type": "code",
      "execution_count": null,
      "metadata": {
        "colab": {
          "base_uri": "https://localhost:8080/",
          "height": 211,
          "referenced_widgets": [
            "18fef06d6a484840a290c947c62f9eb5",
            "742fd0e51de347afbd028ffaa89c51ae",
            "93136fc79b7845cf98d45157c7dc7f28",
            "d2263d46c7104c0ba4e653ef71908ee7",
            "6b42953262ab4fee89640b41b4bfb95c",
            "0caee3ebe644423c88047212935fe4e0",
            "4d6549014405412ca26b4a15184e2062",
            "664b718e17094ec59e0f8b3af8190df0",
            "ebb6f1b7a69e46d5ba24e0daddab8bca",
            "f921e16e3a434812a9292e416a1a7434",
            "b0573d948f8149dc8e80b58a0569adf7"
          ]
        },
        "id": "UWG9Z3iAkpV8",
        "outputId": "0a669f50-afbf-46c6-84aa-1f5efad541b3"
      },
      "outputs": [
        {
          "name": "stdout",
          "output_type": "stream",
          "text": [
            "\u001b[1mDownloading and preparing dataset mnist/3.0.1 (download: 11.06 MiB, generated: 21.00 MiB, total: 32.06 MiB) to /root/tensorflow_datasets/mnist/3.0.1...\u001b[0m\n"
          ]
        },
        {
          "name": "stderr",
          "output_type": "stream",
          "text": [
            "WARNING:absl:Dataset mnist is hosted on GCS. It will automatically be downloaded to your\n",
            "local data directory. If you'd instead prefer to read directly from our public\n",
            "GCS bucket (recommended if you're running on GCP), you can instead pass\n",
            "`try_gcs=True` to `tfds.load` or set `data_dir=gs://tfds-data/datasets`.\n",
            "\n"
          ]
        },
        {
          "data": {
            "application/vnd.jupyter.widget-view+json": {
              "model_id": "18fef06d6a484840a290c947c62f9eb5",
              "version_major": 2,
              "version_minor": 0
            },
            "text/plain": [
              "Dl Completed...:   0%|          | 0/4 [00:00<?, ? file/s]"
            ]
          },
          "metadata": {},
          "output_type": "display_data"
        },
        {
          "name": "stdout",
          "output_type": "stream",
          "text": [
            "\n",
            "\u001b[1mDataset mnist downloaded and prepared to /root/tensorflow_datasets/mnist/3.0.1. Subsequent calls will reuse this data.\u001b[0m\n"
          ]
        }
      ],
      "source": [
        "def preprocess(f):\n",
        "    return tf.cast(f['image'] , 'float32') / 255.0  , f[\"label\"]\n",
        "\n",
        "dataset = tfds.load(name='mnist' , split=tfds.Split.TRAIN)\n",
        "dataset = dataset.map(preprocess).batch(32)"
      ]
    },
    {
      "cell_type": "code",
      "execution_count": null,
      "metadata": {
        "colab": {
          "background_save": true,
          "base_uri": "https://localhost:8080/"
        },
        "id": "tIrpdSKcoczV",
        "outputId": "142e8d4e-1331-4daf-a634-fe37879d73a4"
      },
      "outputs": [
        {
          "name": "stdout",
          "output_type": "stream",
          "text": [
            "Epoch 1/3\n",
            "1875/1875 [==============================] - 239s 126ms/step - loss: 0.1492 - acc: 0.9594\n",
            "Epoch 2/3\n",
            "1875/1875 [==============================] - 223s 119ms/step - loss: 0.0551 - acc: 0.9836\n",
            "Epoch 3/3\n",
            "1875/1875 [==============================] - 224s 120ms/step - loss: 0.0405 - acc: 0.9881\n"
          ]
        }
      ],
      "source": [
        "history = resnet_model.fit(dataset, epochs=3)"
      ]
    },
    {
      "cell_type": "code",
      "execution_count": null,
      "metadata": {
        "colab": {
          "background_save": true
        },
        "id": "s-yYM2q9wDbS"
      },
      "outputs": [],
      "source": [
        "dataset_test = tfds.load(name='mnist', split=tfds.Split.TEST)\n",
        "dataset_test = dataset_test.map(preprocess).batch(32)"
      ]
    },
    {
      "cell_type": "code",
      "execution_count": null,
      "metadata": {
        "id": "ukckg_zwwPLe"
      },
      "outputs": [],
      "source": [
        "resnet_model.evaluate(dataset_test)"
      ]
    },
    {
      "cell_type": "code",
      "execution_count": null,
      "metadata": {
        "colab": {
          "background_save": true
        },
        "id": "oslc66PZwS2L",
        "outputId": "e81ad782-0bba-435c-f9d2-f6d00a239aef"
      },
      "outputs": [
        {
          "name": "stdout",
          "output_type": "stream",
          "text": [
            "Model: \"\"\n",
            "_________________________________________________________________\n",
            " Layer (type)                Output Shape              Param #   \n",
            "=================================================================\n",
            " conv2d (Conv2D)             multiple                  3200      \n",
            "                                                                 \n",
            " batch_normalization (BatchN  multiple                 256       \n",
            " ormalization)                                                   \n",
            "                                                                 \n",
            " max_pooling2d (MaxPooling2D  multiple                 0         \n",
            " )                                                               \n",
            "                                                                 \n",
            "  (IdentityBlock)            multiple                  37184     \n",
            "                                                                 \n",
            "  (IdentityBlock)            multiple                  37184     \n",
            "                                                                 \n",
            " global_average_pooling2d (G  multiple                 0         \n",
            " lobalAveragePooling2D)                                          \n",
            "                                                                 \n",
            " dense (Dense)               multiple                  650       \n",
            "                                                                 \n",
            "=================================================================\n",
            "Total params: 78,474\n",
            "Trainable params: 78,090\n",
            "Non-trainable params: 384\n",
            "_________________________________________________________________\n"
          ]
        }
      ],
      "source": [
        "resnet_model.summary()"
      ]
    },
    {
      "cell_type": "code",
      "execution_count": null,
      "metadata": {
        "id": "9AxN2-oDwWBW"
      },
      "outputs": [],
      "source": [
        "plot_model(resnet_model, to_fil='resnet.png', show_shapes=True, show_layer_names=True)"
      ]
    }
  ],
  "metadata": {
    "colab": {
      "name": "Mini_ResNet_Model.ipynb",
      "provenance": [],
      "authorship_tag": "ABX9TyMJFM9CElb/iaah6EQVZj63",
      "include_colab_link": true
    },
    "kernelspec": {
      "display_name": "Python 3",
      "name": "python3"
    },
    "language_info": {
      "name": "python"
    },
    "widgets": {
      "application/vnd.jupyter.widget-state+json": {
        "0caee3ebe644423c88047212935fe4e0": {
          "model_module": "@jupyter-widgets/base",
          "model_module_version": "1.2.0",
          "model_name": "LayoutModel",
          "state": {
            "_model_module": "@jupyter-widgets/base",
            "_model_module_version": "1.2.0",
            "_model_name": "LayoutModel",
            "_view_count": null,
            "_view_module": "@jupyter-widgets/base",
            "_view_module_version": "1.2.0",
            "_view_name": "LayoutView",
            "align_content": null,
            "align_items": null,
            "align_self": null,
            "border": null,
            "bottom": null,
            "display": null,
            "flex": null,
            "flex_flow": null,
            "grid_area": null,
            "grid_auto_columns": null,
            "grid_auto_flow": null,
            "grid_auto_rows": null,
            "grid_column": null,
            "grid_gap": null,
            "grid_row": null,
            "grid_template_areas": null,
            "grid_template_columns": null,
            "grid_template_rows": null,
            "height": null,
            "justify_content": null,
            "justify_items": null,
            "left": null,
            "margin": null,
            "max_height": null,
            "max_width": null,
            "min_height": null,
            "min_width": null,
            "object_fit": null,
            "object_position": null,
            "order": null,
            "overflow": null,
            "overflow_x": null,
            "overflow_y": null,
            "padding": null,
            "right": null,
            "top": null,
            "visibility": null,
            "width": null
          }
        },
        "18fef06d6a484840a290c947c62f9eb5": {
          "model_module": "@jupyter-widgets/controls",
          "model_module_version": "1.5.0",
          "model_name": "HBoxModel",
          "state": {
            "_dom_classes": [],
            "_model_module": "@jupyter-widgets/controls",
            "_model_module_version": "1.5.0",
            "_model_name": "HBoxModel",
            "_view_count": null,
            "_view_module": "@jupyter-widgets/controls",
            "_view_module_version": "1.5.0",
            "_view_name": "HBoxView",
            "box_style": "",
            "children": [
              "IPY_MODEL_742fd0e51de347afbd028ffaa89c51ae",
              "IPY_MODEL_93136fc79b7845cf98d45157c7dc7f28",
              "IPY_MODEL_d2263d46c7104c0ba4e653ef71908ee7"
            ],
            "layout": "IPY_MODEL_6b42953262ab4fee89640b41b4bfb95c"
          }
        },
        "4d6549014405412ca26b4a15184e2062": {
          "model_module": "@jupyter-widgets/controls",
          "model_module_version": "1.5.0",
          "model_name": "DescriptionStyleModel",
          "state": {
            "_model_module": "@jupyter-widgets/controls",
            "_model_module_version": "1.5.0",
            "_model_name": "DescriptionStyleModel",
            "_view_count": null,
            "_view_module": "@jupyter-widgets/base",
            "_view_module_version": "1.2.0",
            "_view_name": "StyleView",
            "description_width": ""
          }
        },
        "664b718e17094ec59e0f8b3af8190df0": {
          "model_module": "@jupyter-widgets/base",
          "model_module_version": "1.2.0",
          "model_name": "LayoutModel",
          "state": {
            "_model_module": "@jupyter-widgets/base",
            "_model_module_version": "1.2.0",
            "_model_name": "LayoutModel",
            "_view_count": null,
            "_view_module": "@jupyter-widgets/base",
            "_view_module_version": "1.2.0",
            "_view_name": "LayoutView",
            "align_content": null,
            "align_items": null,
            "align_self": null,
            "border": null,
            "bottom": null,
            "display": null,
            "flex": null,
            "flex_flow": null,
            "grid_area": null,
            "grid_auto_columns": null,
            "grid_auto_flow": null,
            "grid_auto_rows": null,
            "grid_column": null,
            "grid_gap": null,
            "grid_row": null,
            "grid_template_areas": null,
            "grid_template_columns": null,
            "grid_template_rows": null,
            "height": null,
            "justify_content": null,
            "justify_items": null,
            "left": null,
            "margin": null,
            "max_height": null,
            "max_width": null,
            "min_height": null,
            "min_width": null,
            "object_fit": null,
            "object_position": null,
            "order": null,
            "overflow": null,
            "overflow_x": null,
            "overflow_y": null,
            "padding": null,
            "right": null,
            "top": null,
            "visibility": null,
            "width": null
          }
        },
        "6b42953262ab4fee89640b41b4bfb95c": {
          "model_module": "@jupyter-widgets/base",
          "model_module_version": "1.2.0",
          "model_name": "LayoutModel",
          "state": {
            "_model_module": "@jupyter-widgets/base",
            "_model_module_version": "1.2.0",
            "_model_name": "LayoutModel",
            "_view_count": null,
            "_view_module": "@jupyter-widgets/base",
            "_view_module_version": "1.2.0",
            "_view_name": "LayoutView",
            "align_content": null,
            "align_items": null,
            "align_self": null,
            "border": null,
            "bottom": null,
            "display": null,
            "flex": null,
            "flex_flow": null,
            "grid_area": null,
            "grid_auto_columns": null,
            "grid_auto_flow": null,
            "grid_auto_rows": null,
            "grid_column": null,
            "grid_gap": null,
            "grid_row": null,
            "grid_template_areas": null,
            "grid_template_columns": null,
            "grid_template_rows": null,
            "height": null,
            "justify_content": null,
            "justify_items": null,
            "left": null,
            "margin": null,
            "max_height": null,
            "max_width": null,
            "min_height": null,
            "min_width": null,
            "object_fit": null,
            "object_position": null,
            "order": null,
            "overflow": null,
            "overflow_x": null,
            "overflow_y": null,
            "padding": null,
            "right": null,
            "top": null,
            "visibility": null,
            "width": null
          }
        },
        "742fd0e51de347afbd028ffaa89c51ae": {
          "model_module": "@jupyter-widgets/controls",
          "model_module_version": "1.5.0",
          "model_name": "HTMLModel",
          "state": {
            "_dom_classes": [],
            "_model_module": "@jupyter-widgets/controls",
            "_model_module_version": "1.5.0",
            "_model_name": "HTMLModel",
            "_view_count": null,
            "_view_module": "@jupyter-widgets/controls",
            "_view_module_version": "1.5.0",
            "_view_name": "HTMLView",
            "description": "",
            "description_tooltip": null,
            "layout": "IPY_MODEL_0caee3ebe644423c88047212935fe4e0",
            "placeholder": "​",
            "style": "IPY_MODEL_4d6549014405412ca26b4a15184e2062",
            "value": "Dl Completed...: 100%"
          }
        },
        "93136fc79b7845cf98d45157c7dc7f28": {
          "model_module": "@jupyter-widgets/controls",
          "model_module_version": "1.5.0",
          "model_name": "FloatProgressModel",
          "state": {
            "_dom_classes": [],
            "_model_module": "@jupyter-widgets/controls",
            "_model_module_version": "1.5.0",
            "_model_name": "FloatProgressModel",
            "_view_count": null,
            "_view_module": "@jupyter-widgets/controls",
            "_view_module_version": "1.5.0",
            "_view_name": "ProgressView",
            "bar_style": "success",
            "description": "",
            "description_tooltip": null,
            "layout": "IPY_MODEL_664b718e17094ec59e0f8b3af8190df0",
            "max": 4,
            "min": 0,
            "orientation": "horizontal",
            "style": "IPY_MODEL_ebb6f1b7a69e46d5ba24e0daddab8bca",
            "value": 4
          }
        },
        "b0573d948f8149dc8e80b58a0569adf7": {
          "model_module": "@jupyter-widgets/controls",
          "model_module_version": "1.5.0",
          "model_name": "DescriptionStyleModel",
          "state": {
            "_model_module": "@jupyter-widgets/controls",
            "_model_module_version": "1.5.0",
            "_model_name": "DescriptionStyleModel",
            "_view_count": null,
            "_view_module": "@jupyter-widgets/base",
            "_view_module_version": "1.2.0",
            "_view_name": "StyleView",
            "description_width": ""
          }
        },
        "d2263d46c7104c0ba4e653ef71908ee7": {
          "model_module": "@jupyter-widgets/controls",
          "model_module_version": "1.5.0",
          "model_name": "HTMLModel",
          "state": {
            "_dom_classes": [],
            "_model_module": "@jupyter-widgets/controls",
            "_model_module_version": "1.5.0",
            "_model_name": "HTMLModel",
            "_view_count": null,
            "_view_module": "@jupyter-widgets/controls",
            "_view_module_version": "1.5.0",
            "_view_name": "HTMLView",
            "description": "",
            "description_tooltip": null,
            "layout": "IPY_MODEL_f921e16e3a434812a9292e416a1a7434",
            "placeholder": "​",
            "style": "IPY_MODEL_b0573d948f8149dc8e80b58a0569adf7",
            "value": " 4/4 [00:00&lt;00:00,  7.18 file/s]"
          }
        },
        "ebb6f1b7a69e46d5ba24e0daddab8bca": {
          "model_module": "@jupyter-widgets/controls",
          "model_module_version": "1.5.0",
          "model_name": "ProgressStyleModel",
          "state": {
            "_model_module": "@jupyter-widgets/controls",
            "_model_module_version": "1.5.0",
            "_model_name": "ProgressStyleModel",
            "_view_count": null,
            "_view_module": "@jupyter-widgets/base",
            "_view_module_version": "1.2.0",
            "_view_name": "StyleView",
            "bar_color": null,
            "description_width": ""
          }
        },
        "f921e16e3a434812a9292e416a1a7434": {
          "model_module": "@jupyter-widgets/base",
          "model_module_version": "1.2.0",
          "model_name": "LayoutModel",
          "state": {
            "_model_module": "@jupyter-widgets/base",
            "_model_module_version": "1.2.0",
            "_model_name": "LayoutModel",
            "_view_count": null,
            "_view_module": "@jupyter-widgets/base",
            "_view_module_version": "1.2.0",
            "_view_name": "LayoutView",
            "align_content": null,
            "align_items": null,
            "align_self": null,
            "border": null,
            "bottom": null,
            "display": null,
            "flex": null,
            "flex_flow": null,
            "grid_area": null,
            "grid_auto_columns": null,
            "grid_auto_flow": null,
            "grid_auto_rows": null,
            "grid_column": null,
            "grid_gap": null,
            "grid_row": null,
            "grid_template_areas": null,
            "grid_template_columns": null,
            "grid_template_rows": null,
            "height": null,
            "justify_content": null,
            "justify_items": null,
            "left": null,
            "margin": null,
            "max_height": null,
            "max_width": null,
            "min_height": null,
            "min_width": null,
            "object_fit": null,
            "object_position": null,
            "order": null,
            "overflow": null,
            "overflow_x": null,
            "overflow_y": null,
            "padding": null,
            "right": null,
            "top": null,
            "visibility": null,
            "width": null
          }
        }
      }
    }
  },
  "nbformat": 4,
  "nbformat_minor": 0
}
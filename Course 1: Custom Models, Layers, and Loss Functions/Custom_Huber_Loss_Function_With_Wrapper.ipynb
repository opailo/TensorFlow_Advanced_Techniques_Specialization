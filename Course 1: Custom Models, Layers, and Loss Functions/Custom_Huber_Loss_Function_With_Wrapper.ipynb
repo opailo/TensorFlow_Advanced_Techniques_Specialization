{
  "nbformat": 4,
  "nbformat_minor": 0,
  "metadata": {
    "colab": {
      "name": "Custom_Huber_Loss_Function_With_Wrapper.ipynb",
      "provenance": [],
      "authorship_tag": "ABX9TyMzP2zlFqB8lliaaUyQQNZW",
      "include_colab_link": true
    },
    "kernelspec": {
      "name": "python3",
      "display_name": "Python 3"
    },
    "language_info": {
      "name": "python"
    }
  },
  "cells": [
    {
      "cell_type": "markdown",
      "metadata": {
        "id": "view-in-github",
        "colab_type": "text"
      },
      "source": [
        "<a href=\"https://colab.research.google.com/github/opailo/TensorFlow_Advanced_Techniques_Specialization/blob/main/Course%201%3A%20Custom%20Models%2C%20Layers%2C%20and%20Loss%20Functions/Custom_Huber_Loss_Function_With_Wrapper.ipynb\" target=\"_parent\"><img src=\"https://colab.research.google.com/assets/colab-badge.svg\" alt=\"Open In Colab\"/></a>"
      ]
    },
    {
      "cell_type": "code",
      "execution_count": null,
      "metadata": {
        "id": "38aomq89CGt5"
      },
      "outputs": [],
      "source": [
        "import tensorflow as tf\n",
        "from tensorflow.keras.layers import Dense, Input\n",
        "from tensorflow.keras.losses import Loss\n",
        "\n",
        "import numpy as np"
      ]
    },
    {
      "cell_type": "code",
      "source": [
        "xs = np.arange(-5, 5, 1).astype('float32')\n",
        "ys = xs * 2 - 1"
      ],
      "metadata": {
        "id": "JS9lCtV-Cp9g"
      },
      "execution_count": null,
      "outputs": []
    },
    {
      "cell_type": "markdown",
      "source": [
        "##Huber Loss Function with Threshold Wrapper"
      ],
      "metadata": {
        "id": "KvgRUoAHCvx7"
      }
    },
    {
      "cell_type": "code",
      "source": [
        "def huber_loss_wrapper(threshold):\n",
        "  def huber_loss(y_true, y_pred):\n",
        "    error = y_true - y_pred\n",
        "\n",
        "    #If true returns r1, otherwise returns r2\n",
        "    return_type = tf.abs(error) <= threshold\n",
        "    \n",
        "    r1 = 0.5 * tf.square(error)\n",
        "    r2 = threshold * (tf.abs(error) - (0.5 * threshold))\n",
        "\n",
        "    return tf.where(return_type, r1, r2)\n",
        "\n",
        "  return huber_loss"
      ],
      "metadata": {
        "id": "zTj15hedC2bw"
      },
      "execution_count": null,
      "outputs": []
    },
    {
      "cell_type": "markdown",
      "source": [
        "##Build Basic Model"
      ],
      "metadata": {
        "id": "FLAhit2fDgxv"
      }
    },
    {
      "cell_type": "code",
      "source": [
        "input = Input(shape=(1,), name='input_layer')\n",
        "output_layer = Dense(1, name='output_layer')(input)\n",
        "\n",
        "model = tf.keras.models.Model(inputs=input, outputs=output_layer)\n",
        "\n",
        "#Set parameters\n",
        "model.compile(optimizer='sgd', loss=huber_loss_wrapper(threshold=1))\n",
        "\n",
        "#Train the model\n",
        "model.fit(xs, ys, epochs=500, verbose=0) #verbose=0 so that it only prints the output\n",
        "\n",
        "model.predict([10.0])"
      ],
      "metadata": {
        "colab": {
          "base_uri": "https://localhost:8080/"
        },
        "id": "FzUtzXerDjtk",
        "outputId": "05c926b4-eb60-4af3-8c52-9f591a040472"
      },
      "execution_count": null,
      "outputs": [
        {
          "output_type": "execute_result",
          "data": {
            "text/plain": [
              "array([[19.022045]], dtype=float32)"
            ]
          },
          "metadata": {},
          "execution_count": 17
        }
      ]
    },
    {
      "cell_type": "code",
      "source": [
        ""
      ],
      "metadata": {
        "id": "LuxFD5CPEWSw"
      },
      "execution_count": null,
      "outputs": []
    }
  ]
}